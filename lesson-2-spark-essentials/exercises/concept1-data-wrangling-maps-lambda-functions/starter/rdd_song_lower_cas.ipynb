{
 "cells": [
  {
   "cell_type": "code",
   "execution_count": 7,
   "metadata": {},
   "outputs": [
    {
     "name": "stderr",
     "output_type": "stream",
     "text": [
      "Welcome to\n",
      "      ____              __\n",
      "     / __/__  ___ _____/ /__\n",
      "    _\\ \\/ _ \\/ _ `/ __/  '_/\n",
      "   /___/ .__/\\_,_/_/ /_/\\_\\   version 3.4.4\n",
      "      /_/\n",
      "                        \n",
      "Using Scala version 2.12.17, Java HotSpot(TM) 64-Bit Server VM, 18.0.2.1\n",
      "Branch HEAD\n",
      "Compiled by user ubuntu on 2024-10-21T02:09:45Z\n",
      "Revision 6729992c76fc59ab07f63f97a9858691274447d0\n",
      "Url https://github.com/apache/spark\n",
      "Type --help for more information.\n"
     ]
    }
   ],
   "source": [
    "!pyspark --version"
   ]
  },
  {
   "cell_type": "code",
   "execution_count": 1,
   "metadata": {},
   "outputs": [],
   "source": [
    "import pyspark\n",
    "sc = pyspark.SparkContext(appName=\"maps_and_lazy_evaluation_example\")"
   ]
  },
  {
   "cell_type": "code",
   "execution_count": 2,
   "metadata": {},
   "outputs": [],
   "source": [
    "# Starting off with a regular python list\n",
    "log_of_songs = [\n",
    "        \"Despacito\",\n",
    "        \"Nice for what\",\n",
    "        \"No tears left to cry\",\n",
    "        \"Despacito\",\n",
    "        \"Havana\",\n",
    "        \"In my feelings\",\n",
    "        \"Nice for what\",\n",
    "        \"despacito\",\n",
    "        \"All the stars\"\n",
    "]"
   ]
  },
  {
   "cell_type": "code",
   "execution_count": 7,
   "metadata": {},
   "outputs": [
    {
     "name": "stdout",
     "output_type": "stream",
     "text": [
      "Despacito\n",
      "Nice for what\n",
      "No tears left to cry\n"
     ]
    }
   ],
   "source": [
    "log_of_songs_rdd = sc.parallelize(log_of_songs)\n",
    "list_songs = log_of_songs_rdd.take(3)\n",
    "for song in list_songs:\n",
    "    print(song)\n",
    "# print(\"Long of Song: \", log_of_songs_rdd.collect())"
   ]
  },
  {
   "cell_type": "code",
   "execution_count": 3,
   "metadata": {},
   "outputs": [
    {
     "name": "stdout",
     "output_type": "stream",
     "text": [
      "Test RDD : [1, 2, 3, 4, 5]\n"
     ]
    }
   ],
   "source": [
    "# Test de base\n",
    "test_rdd = sc.parallelize([1, 2, 3, 4, 5])\n",
    "print(\"Test RDD :\", test_rdd.collect())\n",
    "\n"
   ]
  },
  {
   "cell_type": "code",
   "execution_count": null,
   "metadata": {},
   "outputs": [],
   "source": [
    "\n",
    "\n",
    "\n",
    "\n",
    "\n",
    "# parallelize the log_of_songs to use with Spark\n",
    "\n",
    "\n",
    "# show the original input data is preserved\n",
    "\n",
    "\n",
    "# create a python function to convert strings to lowercase\n",
    "def convert_song_to_lowercase(song):\n",
    "    return song.lower()\n",
    "\n",
    "print(convert_song_to_lowercase(\"Songtitle\"))\n",
    "\n",
    "# use the map function to transform the list of songs with the python function that converts strings to lowercase\n",
    "\n",
    "\n",
    "# Show the original input data is still mixed case\n",
    "\n",
    "\n",
    "# Use lambda functions instead of named functions to do the same map operation"
   ]
  }
 ],
 "metadata": {
  "kernelspec": {
   "display_name": "pyspark_env",
   "language": "python",
   "name": "python3"
  },
  "language_info": {
   "codemirror_mode": {
    "name": "ipython",
    "version": 3
   },
   "file_extension": ".py",
   "mimetype": "text/x-python",
   "name": "python",
   "nbconvert_exporter": "python",
   "pygments_lexer": "ipython3",
   "version": "3.10.16"
  }
 },
 "nbformat": 4,
 "nbformat_minor": 2
}
