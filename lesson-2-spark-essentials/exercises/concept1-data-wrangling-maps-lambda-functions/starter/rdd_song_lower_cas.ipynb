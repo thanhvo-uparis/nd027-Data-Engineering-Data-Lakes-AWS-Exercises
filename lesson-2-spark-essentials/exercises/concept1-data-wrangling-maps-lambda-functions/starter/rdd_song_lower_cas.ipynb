{
 "cells": [
  {
   "cell_type": "code",
   "execution_count": 7,
   "metadata": {},
   "outputs": [
    {
     "name": "stderr",
     "output_type": "stream",
     "text": [
      "Welcome to\n",
      "      ____              __\n",
      "     / __/__  ___ _____/ /__\n",
      "    _\\ \\/ _ \\/ _ `/ __/  '_/\n",
      "   /___/ .__/\\_,_/_/ /_/\\_\\   version 3.4.4\n",
      "      /_/\n",
      "                        \n",
      "Using Scala version 2.12.17, Java HotSpot(TM) 64-Bit Server VM, 18.0.2.1\n",
      "Branch HEAD\n",
      "Compiled by user ubuntu on 2024-10-21T02:09:45Z\n",
      "Revision 6729992c76fc59ab07f63f97a9858691274447d0\n",
      "Url https://github.com/apache/spark\n",
      "Type --help for more information.\n"
     ]
    }
   ],
   "source": [
    "!pyspark --version"
   ]
  },
  {
   "cell_type": "code",
   "execution_count": 1,
   "metadata": {},
   "outputs": [],
   "source": [
    "import pyspark\n",
    "\n",
    "sc = pyspark.SparkContext(appName=\"maps_and_lazy_evaluation_example\")"
   ]
  },
  {
   "cell_type": "markdown",
   "metadata": {},
   "source": [
    "### Exemples de Manipulation avec RDD!"
   ]
  },
  {
   "cell_type": "code",
   "execution_count": 6,
   "metadata": {},
   "outputs": [
    {
     "name": "stdout",
     "output_type": "stream",
     "text": [
      "[4, 3, 2, 4, 5]\n"
     ]
    }
   ],
   "source": [
    "data = [4, 3, 2, 4, 5]\n",
    "rdd = sc.parallelize(data, 4)\n",
    "print(rdd.collect())"
   ]
  },
  {
   "cell_type": "code",
   "execution_count": 9,
   "metadata": {},
   "outputs": [
    {
     "name": "stdout",
     "output_type": "stream",
     "text": [
      "[2, 4, 6, 8, 10]\n"
     ]
    }
   ],
   "source": [
    "rdd2 = sc.parallelize([1, 2, 3, 4, 5])\n",
    "\n",
    "result_rdd2 = rdd2.map(lambda x: x * 2)\n",
    "print(result_rdd2.collect())"
   ]
  },
  {
   "cell_type": "code",
   "execution_count": 11,
   "metadata": {},
   "outputs": [
    {
     "name": "stdout",
     "output_type": "stream",
     "text": [
      "['SPARK', 'RDD', 'EXAMPLE', 'PYTHON']\n"
     ]
    }
   ],
   "source": [
    "rdd3 = sc.parallelize([\"spark\", \"rdd\", \"example\", \"python\"])\n",
    "\n",
    "uppercase_rdd3 = rdd3.map(lambda x : x.upper())\n",
    "print(uppercase_rdd3.collect())"
   ]
  },
  {
   "cell_type": "code",
   "execution_count": 13,
   "metadata": {},
   "outputs": [
    {
     "name": "stdout",
     "output_type": "stream",
     "text": [
      "['a', 'b', 'c']\n"
     ]
    }
   ],
   "source": [
    "rdd4 = sc.parallelize([(\"a\", 1), (\"b\", 2), (\"c\", 3)])\n",
    "keys_rdd4 = rdd4.map(lambda x: x[0])\n",
    "print(keys_rdd4.collect())"
   ]
  },
  {
   "cell_type": "code",
   "execution_count": 16,
   "metadata": {},
   "outputs": [
    {
     "name": "stdout",
     "output_type": "stream",
     "text": [
      "['a', 'b', 'c']\n"
     ]
    }
   ],
   "source": [
    "rdd4 = sc.parallelize([(\"a\", 1), (\"b\", 2), (\"c\", 3)])\n",
    "keys_rdd4 = rdd4.filter(lambda x: True).collect()\n",
    "keys = [x[0] for x in keys_rdd4]\n",
    "print(keys)"
   ]
  },
  {
   "cell_type": "markdown",
   "metadata": {},
   "source": [
    "## Exemple Pour Autres Transformations comme filter"
   ]
  },
  {
   "cell_type": "code",
   "execution_count": null,
   "metadata": {},
   "outputs": [
    {
     "name": "stdout",
     "output_type": "stream",
     "text": [
      "[2, 4]\n"
     ]
    }
   ],
   "source": [
    "\n",
    "rdd5 = sc.parallelize([1, 2, 3, 4, 5])\n",
    "even_rdd5 = rdd5.filter(lambda x: x % 2 == 0)\n",
    "print(even_rdd5.collect())"
   ]
  },
  {
   "cell_type": "markdown",
   "metadata": {},
   "source": [
    "### Exercices"
   ]
  },
  {
   "cell_type": "code",
   "execution_count": 19,
   "metadata": {},
   "outputs": [],
   "source": [
    "# Starting off with a regular python list\n",
    "log_of_songs = [\n",
    "        \"Despacito\",\n",
    "        \"Nice for what\",\n",
    "        \"No tears left to cry\",\n",
    "        \"Despacito\",\n",
    "        \"Havana\",\n",
    "        \"In my feelings\",\n",
    "        \"Nice for what\",\n",
    "        \"despacito\",\n",
    "        \"All the stars\"\n",
    "]"
   ]
  },
  {
   "cell_type": "code",
   "execution_count": 20,
   "metadata": {},
   "outputs": [],
   "source": [
    "log_of_songs_rdd = sc.parallelize(log_of_songs)"
   ]
  },
  {
   "cell_type": "code",
   "execution_count": 21,
   "metadata": {},
   "outputs": [
    {
     "name": "stdout",
     "output_type": "stream",
     "text": [
      "['Despacito', 'Nice for what', 'No tears left to cry', 'Despacito', 'Havana', 'In my feelings', 'Nice for what', 'despacito', 'All the stars']\n"
     ]
    }
   ],
   "source": [
    "print(log_of_songs_rdd.collect())"
   ]
  },
  {
   "cell_type": "code",
   "execution_count": 26,
   "metadata": {},
   "outputs": [],
   "source": [
    "# create a python function to convert strings to lowercase\n",
    "def convert_song_to_lowercase(song):\n",
    "    return song.lower()"
   ]
  },
  {
   "cell_type": "code",
   "execution_count": null,
   "metadata": {},
   "outputs": [
    {
     "name": "stdout",
     "output_type": "stream",
     "text": [
      "['despacito', 'nice for what', 'no tears left to cry', 'despacito', 'havana', 'in my feelings', 'nice for what', 'despacito', 'all the stars']\n"
     ]
    }
   ],
   "source": [
    "# use the map function to transform the list of songs with the python function that converts strings to lowercase\n",
    "rdd_songs_lower = log_of_songs_rdd.map(convert_song_to_lowercase)\n",
    "print(rdd_songs_lower.collect())"
   ]
  },
  {
   "cell_type": "code",
   "execution_count": 28,
   "metadata": {},
   "outputs": [
    {
     "name": "stdout",
     "output_type": "stream",
     "text": [
      "['Despacito', 'Nice for what', 'No tears left to cry', 'Despacito', 'Havana', 'In my feelings', 'Nice for what', 'despacito', 'All the stars']\n"
     ]
    }
   ],
   "source": [
    "# Show the original input data is still mixed case\n",
    "print(log_of_songs_rdd.collect())"
   ]
  },
  {
   "cell_type": "code",
   "execution_count": 29,
   "metadata": {},
   "outputs": [
    {
     "name": "stdout",
     "output_type": "stream",
     "text": [
      "['despacito', 'nice for what', 'no tears left to cry', 'despacito', 'havana', 'in my feelings', 'nice for what', 'despacito', 'all the stars']\n"
     ]
    }
   ],
   "source": [
    "# Use lambda functions instead of named functions to do the same map operation\n",
    "\n",
    "test_rdd = log_of_songs_rdd.map(lambda x: x.lower())\n",
    "print(test_rdd.collect())"
   ]
  }
 ],
 "metadata": {
  "kernelspec": {
   "display_name": "pyspark_env",
   "language": "python",
   "name": "python3"
  },
  "language_info": {
   "codemirror_mode": {
    "name": "ipython",
    "version": 3
   },
   "file_extension": ".py",
   "mimetype": "text/x-python",
   "name": "python",
   "nbconvert_exporter": "python",
   "pygments_lexer": "ipython3",
   "version": "3.10.16"
  }
 },
 "nbformat": 4,
 "nbformat_minor": 2
}
